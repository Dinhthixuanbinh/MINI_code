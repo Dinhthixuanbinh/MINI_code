{
 "cells": [
  {
   "cell_type": "code",
   "execution_count": 4,
   "metadata": {},
   "outputs": [],
   "source": [
    "import os\n",
    "import cv2\n",
    "import numpy as np\n",
    "import matplotlib.pyplot as plt\n",
    "from skimage.feature import hog\n",
    "from sklearn.model_selection import train_test_split\n",
    "from sklearn.linear_model import LogisticRegression\n",
    "from sklearn.metrics import accuracy_score\n"
   ]
  },
  {
   "cell_type": "code",
   "execution_count": 82,
   "metadata": {},
   "outputs": [],
   "source": [
    "train_dir = './small_dog_cat_dataset/train/'\n",
    "test_dir = './small_dog_cat_dataset/test/'"
   ]
  },
  {
   "cell_type": "code",
   "execution_count": 83,
   "metadata": {},
   "outputs": [
    {
     "data": {
      "text/plain": [
       "['cats', 'dogs']"
      ]
     },
     "execution_count": 83,
     "metadata": {},
     "output_type": "execute_result"
    }
   ],
   "source": [
    "os.listdir(train_dir)"
   ]
  },
  {
   "cell_type": "code",
   "execution_count": 84,
   "metadata": {},
   "outputs": [],
   "source": [
    "train_data = []\n",
    "train_labels = []\n",
    "test_data = []\n",
    "test_labels = []\n",
    "\n",
    "target_size = (64,64)\n"
   ]
  },
  {
   "cell_type": "code",
   "execution_count": 85,
   "metadata": {},
   "outputs": [],
   "source": [
    "def read_file(path,datas,labels):\n",
    "    for category in os.listdir(path):\n",
    "     category_dir = os.path.join(path, category)\n",
    "     for image_name in os.listdir(category_dir):\n",
    "        image_path = os.path.join(category_dir, image_name)\n",
    "        image = cv2.imread(image_path)\n",
    "        image = cv2.resize(image, target_size)\n",
    "        datas.append(image)\n",
    "        labels.append(category)\n",
    "    return np.array(datas), np.array(labels)\n"
   ]
  },
  {
   "cell_type": "code",
   "execution_count": 86,
   "metadata": {},
   "outputs": [
    {
     "data": {
      "text/plain": [
       "(array([[[[ 64,  64,  64],\n",
       "          [ 57,  57,  57],\n",
       "          [ 60,  60,  60],\n",
       "          ...,\n",
       "          [190, 190, 190],\n",
       "          [192, 192, 192],\n",
       "          [191, 191, 191]],\n",
       " \n",
       "         [[ 68,  68,  68],\n",
       "          [ 56,  56,  56],\n",
       "          [ 61,  61,  61],\n",
       "          ...,\n",
       "          [191, 191, 191],\n",
       "          [193, 193, 193],\n",
       "          [193, 193, 193]],\n",
       " \n",
       "         [[ 62,  62,  62],\n",
       "          [ 58,  58,  58],\n",
       "          [ 65,  65,  65],\n",
       "          ...,\n",
       "          [192, 192, 192],\n",
       "          [194, 194, 194],\n",
       "          [194, 194, 194]],\n",
       " \n",
       "         ...,\n",
       " \n",
       "         [[157, 162, 165],\n",
       "          [154, 158, 161],\n",
       "          [148, 151, 154],\n",
       "          ...,\n",
       "          [171, 174, 179],\n",
       "          [170, 173, 178],\n",
       "          [170, 173, 178]],\n",
       " \n",
       "         [[167, 169, 170],\n",
       "          [195, 197, 198],\n",
       "          [187, 189, 190],\n",
       "          ...,\n",
       "          [169, 173, 178],\n",
       "          [168, 171, 176],\n",
       "          [166, 169, 175]],\n",
       " \n",
       "         [[196, 198, 199],\n",
       "          [196, 198, 199],\n",
       "          [200, 202, 203],\n",
       "          ...,\n",
       "          [167, 171, 176],\n",
       "          [166, 169, 174],\n",
       "          [165, 168, 173]]],\n",
       " \n",
       " \n",
       "        [[[170, 174, 169],\n",
       "          [169, 173, 168],\n",
       "          [164, 173, 170],\n",
       "          ...,\n",
       "          [254, 245, 228],\n",
       "          [253, 251, 250],\n",
       "          [255, 251, 250]],\n",
       " \n",
       "         [[174, 178, 173],\n",
       "          [175, 179, 174],\n",
       "          [168, 175, 168],\n",
       "          ...,\n",
       "          [255, 248, 230],\n",
       "          [252, 250, 248],\n",
       "          [255, 252, 251]],\n",
       " \n",
       "         [[176, 180, 175],\n",
       "          [171, 174, 169],\n",
       "          [167, 172, 163],\n",
       "          ...,\n",
       "          [252, 242, 225],\n",
       "          [253, 252, 250],\n",
       "          [255, 252, 251]],\n",
       " \n",
       "         ...,\n",
       " \n",
       "         [[198, 193, 190],\n",
       "          [199, 194, 191],\n",
       "          [197, 196, 192],\n",
       "          ...,\n",
       "          [218, 213, 203],\n",
       "          [215, 210, 201],\n",
       "          [216, 211, 202]],\n",
       " \n",
       "         [[198, 193, 190],\n",
       "          [199, 194, 191],\n",
       "          [197, 196, 192],\n",
       "          ...,\n",
       "          [218, 213, 204],\n",
       "          [215, 210, 201],\n",
       "          [216, 211, 202]],\n",
       " \n",
       "         [[199, 194, 191],\n",
       "          [200, 196, 193],\n",
       "          [200, 197, 189],\n",
       "          ...,\n",
       "          [219, 214, 205],\n",
       "          [218, 213, 204],\n",
       "          [218, 213, 204]]],\n",
       " \n",
       " \n",
       "        [[[ 91,  99, 111],\n",
       "          [ 96, 106, 112],\n",
       "          [100, 108, 114],\n",
       "          ...,\n",
       "          [116, 122, 128],\n",
       "          [114, 122, 129],\n",
       "          [121, 125, 133]],\n",
       " \n",
       "         [[ 96, 104, 116],\n",
       "          [ 95, 105, 111],\n",
       "          [103, 113, 111],\n",
       "          ...,\n",
       "          [126, 132, 139],\n",
       "          [123, 132, 138],\n",
       "          [123, 127, 135]],\n",
       " \n",
       "         [[ 82,  90, 102],\n",
       "          [ 94, 105, 111],\n",
       "          [ 98, 105, 114],\n",
       "          ...,\n",
       "          [125, 131, 138],\n",
       "          [124, 131, 138],\n",
       "          [126, 131, 138]],\n",
       " \n",
       "         ...,\n",
       " \n",
       "         [[ 61,  60,  64],\n",
       "          [ 64,  62,  67],\n",
       "          [ 79,  81,  82],\n",
       "          ...,\n",
       "          [101, 112, 116],\n",
       "          [ 99, 110, 114],\n",
       "          [ 96, 106, 112]],\n",
       " \n",
       "         [[ 54,  54,  54],\n",
       "          [ 49,  49,  49],\n",
       "          [ 64,  59,  59],\n",
       "          ...,\n",
       "          [ 99, 110, 114],\n",
       "          [ 94, 104, 108],\n",
       "          [ 94, 104, 110]],\n",
       " \n",
       "         [[ 64,  59,  60],\n",
       "          [ 66,  65,  69],\n",
       "          [ 85,  81,  80],\n",
       "          ...,\n",
       "          [ 99, 108, 117],\n",
       "          [ 94, 105, 112],\n",
       "          [ 94, 104, 111]]],\n",
       " \n",
       " \n",
       "        ...,\n",
       " \n",
       " \n",
       "        [[[153, 143, 153],\n",
       "          [150, 145, 154],\n",
       "          [155, 156, 160],\n",
       "          ...,\n",
       "          [ 25,  37,  43],\n",
       "          [ 27,  39,  45],\n",
       "          [ 42,  50,  53]],\n",
       " \n",
       "         [[159, 148, 158],\n",
       "          [152, 147, 156],\n",
       "          [156, 155, 164],\n",
       "          ...,\n",
       "          [ 24,  36,  42],\n",
       "          [ 33,  46,  51],\n",
       "          [ 44,  52,  55]],\n",
       " \n",
       "         [[153, 142, 152],\n",
       "          [150, 146, 155],\n",
       "          [156, 155, 166],\n",
       "          ...,\n",
       "          [ 28,  40,  46],\n",
       "          [ 37,  49,  54],\n",
       "          [ 48,  56,  59]],\n",
       " \n",
       "         ...,\n",
       " \n",
       "         [[ 14,  41,  20],\n",
       "          [  8,  43,  21],\n",
       "          [  5,  42,  16],\n",
       "          ...,\n",
       "          [ 21,  33,  24],\n",
       "          [ 16,  31,  16],\n",
       "          [ 27,  51,  32]],\n",
       " \n",
       "         [[  5,  28,  10],\n",
       "          [  1,  28,   9],\n",
       "          [  6,  38,  11],\n",
       "          ...,\n",
       "          [ 33,  45,  33],\n",
       "          [  6,  32,  16],\n",
       "          [ 17,  34,  20]],\n",
       " \n",
       "         [[  8,  30,  12],\n",
       "          [  2,  30,  11],\n",
       "          [ 15,  47,  22],\n",
       "          ...,\n",
       "          [ 33,  53,  34],\n",
       "          [  1,  26,   7],\n",
       "          [ 18,  37,  26]]],\n",
       " \n",
       " \n",
       "        [[[  1,   1,   1],\n",
       "          [  0,   0,   0],\n",
       "          [  0,   0,   0],\n",
       "          ...,\n",
       "          [  2,   8,  19],\n",
       "          [  0,   5,  16],\n",
       "          [  0,   5,  15]],\n",
       " \n",
       "         [[  1,   1,   1],\n",
       "          [  0,   0,   0],\n",
       "          [  3,   3,   3],\n",
       "          ...,\n",
       "          [  0,   3,  14],\n",
       "          [  1,   6,  17],\n",
       "          [  3,  11,  22]],\n",
       " \n",
       "         [[  1,   1,   1],\n",
       "          [  1,   1,   1],\n",
       "          [  1,   1,   1],\n",
       "          ...,\n",
       "          [  0,   5,  16],\n",
       "          [  0,   5,  16],\n",
       "          [  4,  12,  22]],\n",
       " \n",
       "         ...,\n",
       " \n",
       "         [[  0,   0,   0],\n",
       "          [  1,   1,   1],\n",
       "          [  1,   1,   1],\n",
       "          ...,\n",
       "          [130, 124, 127],\n",
       "          [147, 141, 142],\n",
       "          [146, 140, 141]],\n",
       " \n",
       "         [[  1,   1,   1],\n",
       "          [  1,   1,   1],\n",
       "          [  1,   1,   1],\n",
       "          ...,\n",
       "          [139, 134, 135],\n",
       "          [147, 141, 142],\n",
       "          [149, 141, 144]],\n",
       " \n",
       "         [[  1,   1,   1],\n",
       "          [  1,   1,   1],\n",
       "          [  1,   1,   1],\n",
       "          ...,\n",
       "          [140, 133, 134],\n",
       "          [136, 130, 131],\n",
       "          [135, 127, 128]]],\n",
       " \n",
       " \n",
       "        [[[ 76,  68,  68],\n",
       "          [ 90,  83,  83],\n",
       "          [ 80,  72,  72],\n",
       "          ...,\n",
       "          [194, 196, 197],\n",
       "          [194, 194, 200],\n",
       "          [192, 192, 198]],\n",
       " \n",
       "         [[ 81,  73,  73],\n",
       "          [ 87,  78,  78],\n",
       "          [ 83,  74,  74],\n",
       "          ...,\n",
       "          [194, 196, 197],\n",
       "          [192, 192, 198],\n",
       "          [190, 190, 196]],\n",
       " \n",
       "         [[ 70,  62,  62],\n",
       "          [ 81,  72,  72],\n",
       "          [ 64,  56,  56],\n",
       "          ...,\n",
       "          [193, 195, 196],\n",
       "          [192, 192, 198],\n",
       "          [190, 190, 196]],\n",
       " \n",
       "         ...,\n",
       " \n",
       "         [[ 24,  16,  16],\n",
       "          [ 41,  33,  33],\n",
       "          [ 47,  39,  39],\n",
       "          ...,\n",
       "          [ 66,  68,  69],\n",
       "          [ 63,  67,  62],\n",
       "          [ 69,  73,  68]],\n",
       " \n",
       "         [[ 26,  20,  21],\n",
       "          [ 28,  22,  23],\n",
       "          [ 40,  34,  35],\n",
       "          ...,\n",
       "          [ 62,  64,  65],\n",
       "          [ 72,  72,  72],\n",
       "          [ 72,  72,  72]],\n",
       " \n",
       "         [[ 28,  22,  23],\n",
       "          [ 24,  18,  19],\n",
       "          [ 37,  31,  32],\n",
       "          ...,\n",
       "          [ 69,  71,  72],\n",
       "          [ 72,  70,  74],\n",
       "          [ 72,  71,  75]]]], dtype=uint8),\n",
       " array(['cats', 'cats', 'cats', 'cats', 'cats', 'cats', 'cats', 'cats',\n",
       "        'cats', 'cats', 'cats', 'cats', 'cats', 'cats', 'cats', 'cats',\n",
       "        'cats', 'cats', 'cats', 'cats', 'cats', 'cats', 'cats', 'cats',\n",
       "        'cats', 'cats', 'cats', 'cats', 'cats', 'cats', 'cats', 'cats',\n",
       "        'cats', 'cats', 'cats', 'cats', 'cats', 'cats', 'cats', 'cats',\n",
       "        'cats', 'cats', 'cats', 'cats', 'cats', 'cats', 'cats', 'cats',\n",
       "        'cats', 'cats', 'cats', 'cats', 'cats', 'cats', 'cats', 'cats',\n",
       "        'cats', 'cats', 'cats', 'cats', 'cats', 'cats', 'cats', 'cats',\n",
       "        'cats', 'cats', 'cats', 'cats', 'cats', 'cats', 'cats', 'cats',\n",
       "        'cats', 'cats', 'cats', 'cats', 'cats', 'cats', 'cats', 'cats',\n",
       "        'cats', 'cats', 'cats', 'cats', 'cats', 'cats', 'cats', 'cats',\n",
       "        'cats', 'cats', 'cats', 'cats', 'cats', 'cats', 'cats', 'cats',\n",
       "        'cats', 'cats', 'cats', 'cats', 'cats', 'cats', 'cats', 'cats',\n",
       "        'cats', 'cats', 'cats', 'cats', 'cats', 'cats', 'cats', 'cats',\n",
       "        'cats', 'cats', 'cats', 'cats', 'cats', 'cats', 'cats', 'cats',\n",
       "        'cats', 'cats', 'cats', 'cats', 'cats', 'cats', 'cats', 'cats',\n",
       "        'cats', 'cats', 'cats', 'cats', 'cats', 'cats', 'cats', 'cats',\n",
       "        'cats', 'cats', 'cats', 'cats', 'cats', 'cats', 'cats', 'cats',\n",
       "        'cats', 'cats', 'cats', 'cats', 'cats', 'cats', 'cats', 'cats',\n",
       "        'cats', 'cats', 'cats', 'cats', 'cats', 'cats', 'cats', 'cats',\n",
       "        'cats', 'cats', 'cats', 'cats', 'cats', 'cats', 'cats', 'cats',\n",
       "        'cats', 'cats', 'cats', 'cats', 'cats', 'cats', 'cats', 'cats',\n",
       "        'cats', 'cats', 'cats', 'cats', 'cats', 'cats', 'cats', 'cats',\n",
       "        'cats', 'cats', 'cats', 'cats', 'cats', 'cats', 'cats', 'cats',\n",
       "        'cats', 'cats', 'cats', 'cats', 'cats', 'cats', 'cats', 'cats',\n",
       "        'cats', 'cats', 'cats', 'cats', 'cats', 'cats', 'cats', 'cats',\n",
       "        'cats', 'cats', 'cats', 'cats', 'cats', 'cats', 'cats', 'cats',\n",
       "        'cats', 'cats', 'cats', 'cats', 'cats', 'cats', 'cats', 'cats',\n",
       "        'cats', 'cats', 'cats', 'cats', 'cats', 'cats', 'cats', 'cats',\n",
       "        'cats', 'cats', 'cats', 'cats', 'cats', 'cats', 'cats', 'cats',\n",
       "        'cats', 'cats', 'cats', 'cats', 'cats', 'cats', 'cats', 'cats',\n",
       "        'cats', 'cats', 'cats', 'cats', 'cats', 'cats', 'cats', 'cats',\n",
       "        'cats', 'cats', 'cats', 'cats', 'cats', 'cats', 'cats', 'cats',\n",
       "        'cats', 'cats', 'cats', 'cats', 'cats', 'cats', 'cats', 'cats',\n",
       "        'cats', 'cats', 'cats', 'cats', 'cats', 'cats', 'cats', 'cats',\n",
       "        'cats', 'cats', 'cats', 'cats', 'cats', 'cats', 'cats', 'cats',\n",
       "        'cats', 'cats', 'cats', 'cats', 'cats', 'cats', 'cats', 'cats',\n",
       "        'cats', 'cats', 'cats', 'cats', 'dogs', 'dogs', 'dogs', 'dogs',\n",
       "        'dogs', 'dogs', 'dogs', 'dogs', 'dogs', 'dogs', 'dogs', 'dogs',\n",
       "        'dogs', 'dogs', 'dogs', 'dogs', 'dogs', 'dogs', 'dogs', 'dogs',\n",
       "        'dogs', 'dogs', 'dogs', 'dogs', 'dogs', 'dogs', 'dogs', 'dogs',\n",
       "        'dogs', 'dogs', 'dogs', 'dogs', 'dogs', 'dogs', 'dogs', 'dogs',\n",
       "        'dogs', 'dogs', 'dogs', 'dogs', 'dogs', 'dogs', 'dogs', 'dogs',\n",
       "        'dogs', 'dogs', 'dogs', 'dogs', 'dogs', 'dogs', 'dogs', 'dogs',\n",
       "        'dogs', 'dogs', 'dogs', 'dogs', 'dogs', 'dogs', 'dogs', 'dogs',\n",
       "        'dogs', 'dogs', 'dogs', 'dogs', 'dogs', 'dogs', 'dogs', 'dogs',\n",
       "        'dogs', 'dogs', 'dogs', 'dogs', 'dogs', 'dogs', 'dogs', 'dogs',\n",
       "        'dogs', 'dogs', 'dogs', 'dogs', 'dogs', 'dogs', 'dogs', 'dogs',\n",
       "        'dogs', 'dogs', 'dogs', 'dogs', 'dogs', 'dogs', 'dogs', 'dogs',\n",
       "        'dogs', 'dogs', 'dogs', 'dogs', 'dogs', 'dogs', 'dogs', 'dogs',\n",
       "        'dogs', 'dogs', 'dogs', 'dogs', 'dogs', 'dogs', 'dogs', 'dogs',\n",
       "        'dogs', 'dogs', 'dogs', 'dogs', 'dogs', 'dogs', 'dogs', 'dogs',\n",
       "        'dogs', 'dogs', 'dogs', 'dogs', 'dogs', 'dogs', 'dogs', 'dogs',\n",
       "        'dogs', 'dogs', 'dogs', 'dogs', 'dogs', 'dogs', 'dogs', 'dogs',\n",
       "        'dogs', 'dogs', 'dogs', 'dogs', 'dogs', 'dogs', 'dogs', 'dogs',\n",
       "        'dogs', 'dogs', 'dogs', 'dogs', 'dogs', 'dogs', 'dogs', 'dogs',\n",
       "        'dogs', 'dogs', 'dogs', 'dogs', 'dogs', 'dogs', 'dogs', 'dogs',\n",
       "        'dogs', 'dogs', 'dogs', 'dogs', 'dogs', 'dogs', 'dogs', 'dogs',\n",
       "        'dogs', 'dogs', 'dogs', 'dogs', 'dogs', 'dogs', 'dogs', 'dogs',\n",
       "        'dogs', 'dogs', 'dogs', 'dogs', 'dogs', 'dogs', 'dogs', 'dogs',\n",
       "        'dogs', 'dogs', 'dogs', 'dogs', 'dogs', 'dogs', 'dogs', 'dogs',\n",
       "        'dogs', 'dogs', 'dogs', 'dogs', 'dogs', 'dogs', 'dogs', 'dogs',\n",
       "        'dogs', 'dogs', 'dogs', 'dogs', 'dogs', 'dogs', 'dogs', 'dogs',\n",
       "        'dogs', 'dogs', 'dogs', 'dogs', 'dogs', 'dogs', 'dogs', 'dogs',\n",
       "        'dogs', 'dogs', 'dogs', 'dogs', 'dogs', 'dogs', 'dogs', 'dogs',\n",
       "        'dogs', 'dogs', 'dogs', 'dogs', 'dogs', 'dogs', 'dogs', 'dogs',\n",
       "        'dogs', 'dogs', 'dogs', 'dogs', 'dogs', 'dogs', 'dogs', 'dogs',\n",
       "        'dogs', 'dogs', 'dogs', 'dogs', 'dogs', 'dogs', 'dogs', 'dogs',\n",
       "        'dogs', 'dogs', 'dogs', 'dogs', 'dogs', 'dogs', 'dogs', 'dogs',\n",
       "        'dogs', 'dogs', 'dogs', 'dogs', 'dogs', 'dogs', 'dogs', 'dogs',\n",
       "        'dogs', 'dogs', 'dogs', 'dogs', 'dogs', 'dogs', 'dogs', 'dogs',\n",
       "        'dogs', 'dogs', 'dogs', 'dogs', 'dogs', 'dogs', 'dogs', 'dogs',\n",
       "        'dogs', 'dogs', 'dogs', 'dogs', 'dogs', 'dogs', 'dogs', 'dogs',\n",
       "        'dogs', 'dogs', 'dogs', 'dogs', 'dogs', 'dogs', 'dogs', 'dogs',\n",
       "        'dogs', 'dogs', 'dogs', 'dogs', 'dogs', 'dogs', 'dogs', 'dogs'],\n",
       "       dtype='<U4'))"
      ]
     },
     "execution_count": 86,
     "metadata": {},
     "output_type": "execute_result"
    }
   ],
   "source": [
    "read_file(train_dir,train_data,train_labels)\n",
    "read_file(test_dir,test_data,test_labels)"
   ]
  },
  {
   "cell_type": "code",
   "execution_count": 87,
   "metadata": {},
   "outputs": [
    {
     "data": {
      "text/plain": [
       "(2000, 2000, 600, 600)"
      ]
     },
     "execution_count": 87,
     "metadata": {},
     "output_type": "execute_result"
    }
   ],
   "source": [
    "len(train_data), len(train_labels),len(test_data), len(test_labels),"
   ]
  },
  {
   "cell_type": "code",
   "execution_count": 88,
   "metadata": {},
   "outputs": [],
   "source": [
    "\n",
    "def colorspace(data):\n",
    "   gray_images = []\n",
    "   hsv_images = []\n",
    "   for image in data:\n",
    "        gray = cv2.cvtColor(image, cv2.COLOR_RGB2GRAY)\n",
    "        hsv = cv2.cvtColor(image, cv2.COLOR_RGB2HSV)\n",
    "        gray_images.append(gray)\n",
    "        hsv_images.append(hsv)\n",
    "   return np.array(gray_images), np.array(hsv_images)"
   ]
  },
  {
   "cell_type": "code",
   "execution_count": 92,
   "metadata": {},
   "outputs": [],
   "source": [
    "train_rgb_images = train_data\n",
    "train_gray_images = colorspace(train_data)[0]\n",
    "train_hsv_images = colorspace(train_data)[1]\n",
    "test_rgb_images = test_data\n",
    "test_gray_images =colorspace(test_data)[0]\n",
    "test_hsv_images = colorspace(test_data)[1]"
   ]
  },
  {
   "cell_type": "code",
   "execution_count": 93,
   "metadata": {},
   "outputs": [
    {
     "data": {
      "text/plain": [
       "600"
      ]
     },
     "execution_count": 93,
     "metadata": {},
     "output_type": "execute_result"
    }
   ],
   "source": [
    "len(test_hsv_images)"
   ]
  },
  {
   "cell_type": "code",
   "execution_count": 64,
   "metadata": {},
   "outputs": [],
   "source": [
    "\n",
    "def HOGgrayfearture(data):\n",
    "    hog_gray_features =[]\n",
    "    for image in data:\n",
    "\n",
    "        hog_features, _ = hog(image, visualize=True,\n",
    "                               block_norm='L2-Hys',\n",
    "                               pixels_per_cell=(16, 16),\n",
    "                                cells_per_block=(2, 2))\n",
    "        hog_gray_features.append(hog_features)\n",
    "    return np.array(hog_gray_features)\n",
    "\n",
    "def HOGrgbfearture(data):\n",
    "    hog_gray_features =[]\n",
    "    for image in data:\n",
    "\n",
    "        hog_features, _ = hog(image, visualize=True,\n",
    "                               block_norm='L2-Hys',\n",
    "                               pixels_per_cell=(16, 16),\n",
    "                                 cells_per_block=(2, 2),\n",
    "                                 channel_axis=-1) # specify the channel axis\n",
    "        hog_gray_features.append(hog_features)\n",
    "    return np.array(hog_gray_features)\n",
    "\n",
    "def HOGhsvfearture(data):\n",
    "    hog_hsv_features =[]\n",
    "    for image in data:\n",
    "        # hue = image[:,:,0]\n",
    "        hog_features, hog_image = hog(image, visualize=True,\n",
    "                                       block_norm='L2-Hys',\n",
    "                                         pixels_per_cell=(16, 16),\n",
    "                                           cells_per_block=(2, 2),\n",
    "                                           channel_axis=-1)\n",
    "        hog_hsv_features.append(hog_features)\n",
    "    return hog_hsv_features\n"
   ]
  },
  {
   "cell_type": "code",
   "execution_count": 94,
   "metadata": {},
   "outputs": [],
   "source": [
    "train_rgb_feature = HOGrgbfearture(train_rgb_images)\n",
    "train_gray_feature = HOGgrayfearture(train_gray_images)\n",
    "train_hsv_feature = HOGhsvfearture(train_hsv_images)\n",
    "test_rgb_feature = HOGrgbfearture(test_rgb_images)\n",
    "test_gray_feature = HOGgrayfearture(test_gray_images)\n",
    "test_hsv_feature = HOGhsvfearture(test_hsv_images)"
   ]
  },
  {
   "cell_type": "code",
   "execution_count": 50,
   "metadata": {},
   "outputs": [
    {
     "data": {
      "text/plain": [
       "2000"
      ]
     },
     "execution_count": 50,
     "metadata": {},
     "output_type": "execute_result"
    }
   ],
   "source": [
    "len(train_rgb_feature)"
   ]
  },
  {
   "cell_type": "code",
   "execution_count": 95,
   "metadata": {},
   "outputs": [],
   "source": [
    "X_rgb_train, X_rgb_val, y_rgb_train, y_rgb_val, = train_test_split(train_rgb_feature,\n",
    "                                                                        train_labels,\n",
    "                                                                          test_size=0.1,\n",
    "                                                                            random_state=50)\n",
    "X_gray_train, X_gray_val, y_gray_train, y_gray_val, = train_test_split(train_gray_feature,\n",
    "                                                                        train_labels,\n",
    "                                                                          test_size=0.1,\n",
    "                                                                            random_state=50)\n",
    "X_hsv_train, X_hsv_val, y_hsv_train, y_hsv_val, = train_test_split(train_hsv_feature,\n",
    "                                                                    train_labels,\n",
    "                                                                      test_size=0.2,\n",
    "                                                                        random_state=50)\n"
   ]
  },
  {
   "cell_type": "code",
   "execution_count": 96,
   "metadata": {},
   "outputs": [],
   "source": [
    "clf = LogisticRegression(random_state=50)\n"
   ]
  },
  {
   "cell_type": "code",
   "execution_count": 97,
   "metadata": {},
   "outputs": [],
   "source": [
    "rgb_clf =clf.fit(X_rgb_train, y_rgb_train)"
   ]
  },
  {
   "cell_type": "code",
   "execution_count": 98,
   "metadata": {},
   "outputs": [],
   "source": [
    "gray_clf =clf.fit(X_gray_train, y_gray_train)"
   ]
  },
  {
   "cell_type": "code",
   "execution_count": 99,
   "metadata": {},
   "outputs": [],
   "source": [
    "hsv_clf = clf.fit(X_hsv_train, y_hsv_train)"
   ]
  },
  {
   "cell_type": "code",
   "execution_count": 100,
   "metadata": {},
   "outputs": [
    {
     "name": "stdout",
     "output_type": "stream",
     "text": [
      "Accuracy Val: 0.72\n",
      "Accuracy test: 0.72\n"
     ]
    }
   ],
   "source": [
    "rgb_pred = rgb_clf.predict(X_rgb_val)\n",
    "acc_rgb_val = accuracy_score(rgb_pred, y_rgb_val)\n",
    "print(\"Accuracy Val:\", acc_rgb_val)\n",
    "\n",
    "test_rgb_pred = rgb_clf.predict(test_rgb_feature)\n",
    "acc_rgb_test = accuracy_score(test_rgb_pred, test_labels)\n",
    "print(\"Accuracy test:\", round(acc_rgb_test, 2))"
   ]
  },
  {
   "cell_type": "code",
   "execution_count": 116,
   "metadata": {},
   "outputs": [
    {
     "name": "stdout",
     "output_type": "stream",
     "text": [
      "Accuracy Val: 0.75\n",
      "Accuracy test: 0.73\n"
     ]
    }
   ],
   "source": [
    "gray_pred = gray_clf.predict(X_gray_val)\n",
    "acc_gray_val = accuracy_score(gray_pred, y_gray_val)\n",
    "print(\"Accuracy Val:\", acc_gray_val)\n",
    "\n",
    "test_gray_pred = gray_clf.predict(test_gray_feature)\n",
    "acc_gray_test = accuracy_score(test_gray_pred, test_labels)\n",
    "print(\"Accuracy test:\", acc_gray_test)"
   ]
  },
  {
   "cell_type": "code",
   "execution_count": 117,
   "metadata": {},
   "outputs": [
    {
     "name": "stdout",
     "output_type": "stream",
     "text": [
      "Accuracy val: 0.7275\n",
      "Accuracy test: 0.6983333333333334\n"
     ]
    }
   ],
   "source": [
    "hsv_pred = gray_clf.predict(X_hsv_val)\n",
    "acc_hsv_val = accuracy_score(hsv_pred, y_hsv_val)\n",
    "print(\"Accuracy val:\", acc_hsv_val)\n",
    "\n",
    "test_hsv_pred = gray_clf.predict(test_hsv_feature)\n",
    "acc_hsv_test = accuracy_score(test_hsv_pred, test_labels)\n",
    "print(\"Accuracy test:\", acc_hsv_test)"
   ]
  },
  {
   "cell_type": "code",
   "execution_count": 121,
   "metadata": {},
   "outputs": [],
   "source": [
    "def VotingEnsembleFeature(data):\n",
    "    predict = []\n",
    "    rgb_images = data\n",
    "    gray_images = colorspace(data)[0]\n",
    "    hsv_images = colorspace(data)[1]\n",
    "    rgb_feature = HOGrgbfearture(rgb_images)\n",
    "    gray_feature = HOGgrayfearture(gray_images)\n",
    "    hsv_feature = HOGhsvfearture(hsv_images)\n",
    "    rgb_pred = rgb_clf.predict(rgb_feature)\n",
    "    gray_pred = gray_clf.predict(gray_feature)\n",
    "    hsv_pred = hsv_clf.predict(hsv_feature)\n",
    "    for i in range(len(rgb_pred)):\n",
    "        count = 0\n",
    "        if rgb_pred[i] == 'dogs':\n",
    "            count += 0.5\n",
    "        if gray_pred[i] == 'dogs':\n",
    "            count += 1\n",
    "        if hsv_pred[i] == 'dogs':\n",
    "            count += 0.5\n",
    "        if count >= 1.5:\n",
    "            predict.append('dogs')\n",
    "        else:\n",
    "            predict.append('cats')\n",
    "    return np.array(predict)\n",
    "            \n"
   ]
  },
  {
   "cell_type": "code",
   "execution_count": 122,
   "metadata": {},
   "outputs": [],
   "source": [
    "pred = VotingEnsembleFeature(test_data)"
   ]
  },
  {
   "cell_type": "code",
   "execution_count": 123,
   "metadata": {},
   "outputs": [
    {
     "name": "stdout",
     "output_type": "stream",
     "text": [
      "Accuracy test: 0.7366666666666667\n"
     ]
    }
   ],
   "source": [
    "acc_pred = accuracy_score(pred, test_labels)\n",
    "print(\"Accuracy test:\", acc_pred)"
   ]
  }
 ],
 "metadata": {
  "kernelspec": {
   "display_name": "Python 3",
   "language": "python",
   "name": "python3"
  },
  "language_info": {
   "codemirror_mode": {
    "name": "ipython",
    "version": 3
   },
   "file_extension": ".py",
   "mimetype": "text/x-python",
   "name": "python",
   "nbconvert_exporter": "python",
   "pygments_lexer": "ipython3",
   "version": "3.10.9"
  },
  "orig_nbformat": 4
 },
 "nbformat": 4,
 "nbformat_minor": 2
}
